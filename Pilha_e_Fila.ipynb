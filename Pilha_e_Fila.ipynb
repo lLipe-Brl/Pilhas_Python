{
 "cells": [
  {
   "cell_type": "code",
   "execution_count": 3,
   "metadata": {},
   "outputs": [
    {
     "name": "stdout",
     "output_type": "stream",
     "text": [
      "[8, 10, 44]\n",
      "Topo da pilha 44\n",
      "Removido 44\n",
      "[8, 10]\n",
      "Pilha está vazia? False\n"
     ]
    }
   ],
   "source": [
    "\n",
    "# Iniciando a pilha\n",
    "pilha = []\n",
    "\n",
    "# Adicionando\n",
    "pilha.append(8)\n",
    "pilha.append(10)\n",
    "pilha.append(44)\n",
    "\n",
    "print(pilha)\n",
    "\n",
    "# Mostra o topo da pilha através de [-1]\n",
    "print(\"Topo da pilha\", pilha[-1])\n",
    "\n",
    "# Remove o item que está no topo\n",
    "print(\"Removido\", pilha.pop())\n",
    "\n",
    "print(pilha)\n",
    "\n",
    "# Verifica se o numero de elementos na pilha é igual a zero\n",
    "\n",
    "print(\"Pilha está vazia?\", len(pilha) == 0) # false\n",
    "\n"
   ]
  },
  {
   "cell_type": "code",
   "execution_count": 6,
   "metadata": {},
   "outputs": [
    {
     "name": "stdout",
     "output_type": "stream",
     "text": [
      "deque([10, 8, 55])\n",
      "Removido:  10\n",
      "Primeiro elemento da fila 8\n",
      "Removido:  8\n",
      "Primeiro da fila:  55\n",
      "Fila está vazia? False\n"
     ]
    }
   ],
   "source": [
    "# Filas\n",
    "\n",
    "# Importando a biblioteca collections.deque\n",
    "from collections import deque\n",
    "\n",
    "# Iniciando uma filha vazia\n",
    "\n",
    "fila = deque()\n",
    "\n",
    "# Enfileirar elementos\n",
    "\n",
    "fila.append(10)\n",
    "fila.append(8)\n",
    "fila.append(55)\n",
    "\n",
    "print(fila)\n",
    " \n",
    "print(\"Removido: \", fila.popleft())\n",
    "\n",
    "print(\"Primeiro elemento da fila\", fila[0])\n",
    "\n",
    "print(\"Removido: \", fila.popleft())\n",
    "\n",
    "print(\"Primeiro da fila: \", fila[0])\n",
    "\n",
    "print(\"Fila está vazia?\", len(fila) == 0) # false"
   ]
  }
 ],
 "metadata": {
  "kernelspec": {
   "display_name": "Python 3",
   "language": "python",
   "name": "python3"
  },
  "language_info": {
   "codemirror_mode": {
    "name": "ipython",
    "version": 3
   },
   "file_extension": ".py",
   "mimetype": "text/x-python",
   "name": "python",
   "nbconvert_exporter": "python",
   "pygments_lexer": "ipython3",
   "version": "3.12.1"
  }
 },
 "nbformat": 4,
 "nbformat_minor": 2
}
